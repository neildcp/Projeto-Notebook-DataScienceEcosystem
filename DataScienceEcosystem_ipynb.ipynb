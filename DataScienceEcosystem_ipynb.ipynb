{
  "nbformat": 4,
  "nbformat_minor": 0,
  "metadata": {
    "colab": {
      "provenance": []
    },
    "kernelspec": {
      "name": "python3",
      "display_name": "Python 3"
    },
    "language_info": {
      "name": "python"
    }
  },
  "cells": [
    {
      "cell_type": "markdown",
      "source": [
        "Data Science Tools and Ecosystem"
      ],
      "metadata": {
        "id": "0QAuAao9qpyD"
      }
    },
    {
      "cell_type": "markdown",
      "source": [
        "In this notebook, Data Science Tools and Ecosystem are explaneined."
      ],
      "metadata": {
        "id": "belwIvjCrPfp"
      }
    },
    {
      "cell_type": "markdown",
      "source": [
        "Some of the popular languages that Data Scientists use are: Python, R and SQL\n"
      ],
      "metadata": {
        "id": "4fTRSA0srzin"
      }
    },
    {
      "cell_type": "markdown",
      "source": [
        "Some of the commonly used libraries used by Data Scientists include:Pandas, NumPy, Matplotlib:Scikit-learn, TensorFlow, Keras, Seaborn, SciPy"
      ],
      "metadata": {
        "id": "ZSx8dpdotacn"
      }
    },
    {
      "cell_type": "markdown",
      "source": [
        "| **Tool**       | **Description**                                                                 |\n",
        "|----------------|---------------------------------------------------------------------------------|\n",
        "| **Pandas**     | Data manipulation and analysis, providing data structures like DataFrames.      |\n",
        "| **NumPy**      | Numerical computing with support for large, multi-dimensional arrays and matrices. |\n",
        "| **Matplotlib** | Creating static, animated, and interactive visualizations in Python.            |\n",
        "| **Scikit-learn**| Machine learning, offering tools for data mining and data analysis.            |\n",
        "| **TensorFlow** | Deep learning, providing a comprehensive ecosystem of tools and libraries.      |\n",
        "| **Keras**      | High-level neural networks API, capable of running on top of TensorFlow.        |\n",
        "| **Seaborn**    | Statistical data visualization, built on top of Matplotlib.                     |\n",
        "| **SciPy**      | Scientific and technical computing, building on NumPy.                          |\n",
        "| **NLTK**       | Working with human language data (text).                                        |\n",
        "| **Statsmodels**| Estimating and testing statistical models.                                      |\n"
      ],
      "metadata": {
        "id": "TFHxoBWauBcZ"
      }
    },
    {
      "cell_type": "markdown",
      "source": [
        "# Arithmetic Expressions in Python\n",
        "\n",
        "Arithmetic expressions are used to perform mathematical operations. Here are some common examples:\n",
        "\n",
        "\n"
      ],
      "metadata": {
        "id": "xT1kSn1yuG_h"
      }
    },
    {
      "cell_type": "code",
      "source": [
        "   result = 5 + 3\n",
        "   print(result)  # Output: 8"
      ],
      "metadata": {
        "colab": {
          "base_uri": "https://localhost:8080/"
        },
        "id": "XPv2kK0yvE5y",
        "outputId": "483abdd9-bcdb-436a-a666-2921a494e694"
      },
      "execution_count": 3,
      "outputs": [
        {
          "output_type": "stream",
          "name": "stdout",
          "text": [
            "8\n"
          ]
        }
      ]
    },
    {
      "cell_type": "code",
      "source": [
        "result = 10 - 4\n",
        "print(result)  # Output: 6\n"
      ],
      "metadata": {
        "colab": {
          "base_uri": "https://localhost:8080/"
        },
        "id": "WzOOjZB-u0WI",
        "outputId": "56c2e061-0146-442b-cad9-2dc09610e106"
      },
      "execution_count": 1,
      "outputs": [
        {
          "output_type": "stream",
          "name": "stdout",
          "text": [
            "6\n"
          ]
        }
      ]
    },
    {
      "cell_type": "code",
      "source": [
        "result = 7 * 2\n",
        "print(result)  # Output: 14\n",
        "\n",
        "result = 15 / 3\n",
        "print(result)  # Output: 5.0\n",
        "\n",
        "result = 2 ** 3\n",
        "print(result)  # Output: 8\n",
        "\n",
        "result = 10 % 3\n",
        "print(result)  # Output: 1"
      ],
      "metadata": {
        "colab": {
          "base_uri": "https://localhost:8080/"
        },
        "id": "M0hKcdKkvNa5",
        "outputId": "821f37e6-c4e6-4fd3-d21b-1f98ffa75d30"
      },
      "execution_count": 4,
      "outputs": [
        {
          "output_type": "stream",
          "name": "stdout",
          "text": [
            "14\n",
            "5.0\n",
            "8\n",
            "1\n"
          ]
        }
      ]
    },
    {
      "cell_type": "code",
      "source": [
        "# This is a simple arithmetic expression to multiply then add integers\n",
        "result = (3 * 4) + 5\n",
        "print(result)  # Output: 17\n"
      ],
      "metadata": {
        "colab": {
          "base_uri": "https://localhost:8080/"
        },
        "id": "yDvl0hJ4wD2t",
        "outputId": "bca224f5-653f-4313-face-186e4db399e8"
      },
      "execution_count": 5,
      "outputs": [
        {
          "output_type": "stream",
          "name": "stdout",
          "text": [
            "17\n"
          ]
        }
      ]
    },
    {
      "cell_type": "code",
      "source": [
        "# This will convert 200 minutes to hours by dividing by 60\n",
        "hours = 200 / 60\n",
        "print(hours)  # Output: 3.3333333333333335\n"
      ],
      "metadata": {
        "colab": {
          "base_uri": "https://localhost:8080/"
        },
        "id": "UXHhJo3Qwd9E",
        "outputId": "d185450c-8012-4efc-8490-c7617bdcb888"
      },
      "execution_count": 6,
      "outputs": [
        {
          "output_type": "stream",
          "name": "stdout",
          "text": [
            "3.3333333333333335\n"
          ]
        }
      ]
    },
    {
      "cell_type": "markdown",
      "source": [
        "This notebook aims to demonstrate that I have the knowledge to complete this course with top marks.”"
      ],
      "metadata": {
        "id": "h38NFfbLw00U"
      }
    },
    {
      "cell_type": "markdown",
      "source": [
        "Author: Neil D. C. Negrão"
      ],
      "metadata": {
        "id": "HucjdMuzxsrq"
      }
    }
  ]
}